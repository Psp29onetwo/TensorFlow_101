{
  "nbformat": 4,
  "nbformat_minor": 0,
  "metadata": {
    "colab": {
      "name": "00_TensorFlow_Fundamentals",
      "provenance": [],
      "collapsed_sections": [],
      "authorship_tag": "ABX9TyMeHVuBsSzDAYEydwhVX91n",
      "include_colab_link": true
    },
    "kernelspec": {
      "name": "python3",
      "display_name": "Python 3"
    },
    "language_info": {
      "name": "python"
    },
    "accelerator": "GPU"
  },
  "cells": [
    {
      "cell_type": "markdown",
      "metadata": {
        "id": "view-in-github",
        "colab_type": "text"
      },
      "source": [
        "<a href=\"https://colab.research.google.com/github/Psp29onetwo/TensorFlow_101/blob/main/00_TensorFlow_Fundamentals.ipynb\" target=\"_parent\"><img src=\"https://colab.research.google.com/assets/colab-badge.svg\" alt=\"Open In Colab\"/></a>"
      ]
    },
    {
      "cell_type": "markdown",
      "metadata": {
        "id": "iB3DqZGUmaEq"
      },
      "source": [
        "# Fundamentals of tensors using TensorFlow.\n",
        "In this notebook we cover some of the most fundamental TensorFlow operations, more specificially:\n",
        "\n",
        "* Introduction to tensors (creating tensors)\n",
        "* Getting information from tensors (tensor attributes)\n",
        "* Manipulating tensors (tensor operations)\n",
        "* Tensors and NumPy\n",
        "* Using @tf.function (a way to speed up your regular Python functions)\n",
        "* Using GPUs with TensorFlow\n",
        "* Exercises to try"
      ]
    },
    {
      "cell_type": "markdown",
      "metadata": {
        "id": "J3WifZW8mx4C"
      },
      "source": [
        "# Importing TensorFlow"
      ]
    },
    {
      "cell_type": "code",
      "metadata": {
        "colab": {
          "base_uri": "https://localhost:8080/"
        },
        "id": "kTtMhdF7z-7t",
        "outputId": "c11db3a2-49ae-4137-ee73-535ab0478c10"
      },
      "source": [
        "import tensorflow as tf\n",
        "print(tf.__version__)"
      ],
      "execution_count": null,
      "outputs": [
        {
          "output_type": "stream",
          "text": [
            "2.5.0\n"
          ],
          "name": "stdout"
        }
      ]
    },
    {
      "cell_type": "markdown",
      "metadata": {
        "id": "WPIYKe3W14oo"
      },
      "source": [
        "def constant(value, dtype=None, shape=None, name='Const')\n",
        "Creates a constant tensor from a tensor-like object.\n",
        "\n",
        "Note: All eager tf.Tensor values are immutable (in contrast to\n",
        "tf.Variable). There is nothing especially _constant_ about the value\n",
        "returned from tf.constant. This function is not fundamentally different from\n",
        "tf.convert_to_tensor. The name tf.constant comes from the value being\n",
        "embedded in a Const node in the tf.Graph. tf.constant is useful\n",
        "for asserting that the value can be embedded that way.\n",
        "\n",
        "If the argument dtype is not specified, then the type is inferred from\n",
        "the type of value.\n",
        "\n",
        ">>> # Constant 1-D Tensor from a python list.\n",
        ">>> tf.constant([1, 2, 3, 4, 5, 6])\n",
        "<tf.Tensor: shape=(6,), dtype=int32,\n",
        "    numpy=array([1, 2, 3, 4, 5, 6], dtype=int32)>\n",
        ">>> # Or a numpy array\n",
        ">>> a = np.array([[1, 2, 3], [4, 5, 6]])\n",
        ">>> tf.constant(a)\n",
        "<tf.Tensor: shape=(2, 3), dtype=int64, numpy=\n",
        "  array([[1, 2, 3],\n",
        "         [4, 5, 6]])>\n",
        "If dtype is specified, the resulting tensor values are cast to the requested\n",
        "dtype.\n",
        "\n",
        ">>> tf.constant([1, 2, 3, 4, 5, 6], dtype=tf.float64)\n",
        "<tf.Tensor: shape=(6,), dtype=float64,\n",
        "    numpy=array([1., 2., 3., 4., 5., 6.])>\n",
        "If shape is set, the value is reshaped to match. Scalars are expanded to\n",
        "fill the shape:\n",
        "\n",
        ">>> tf.constant(0, shape=(2, 3))\n",
        "  <tf.Tensor: shape=(2, 3), dtype=int32, numpy=\n",
        "  array([[0, 0, 0],\n",
        "         [0, 0, 0]], dtype=int32)>\n",
        ">>> tf.constant([1, 2, 3, 4, 5, 6], shape=[2, 3])\n",
        "<tf.Tensor: shape=(2, 3), dtype=int32, numpy=\n",
        "  array([[1, 2, 3],\n",
        "         [4, 5, 6]], dtype=int32)>\n",
        "tf.constant has no effect if an eager Tensor is passed as the value, it\n",
        "even transmits gradients:\n",
        "\n",
        ">>> v = tf.Variable([0.0])\n",
        ">>> with tf.GradientTape() as g:\n",
        "...     loss = tf.constant(v + v)\n",
        ">>> g.gradient(loss, v).numpy()\n",
        "array([2.], dtype=float32)\n",
        "But, since tf.constant embeds the value in the tf.Graph this fails for\n",
        "symbolic tensors:\n",
        "\n",
        ">>> with tf.compat.v1.Graph().as_default():\n",
        "...   i = tf.compat.v1.placeholder(shape=[None, None], dtype=tf.float32)\n",
        "...   t = tf.constant(i)\n",
        "Traceback (most recent call last):\n",
        "...\n",
        "TypeError: ...\n",
        "tf.constant will _always_ create CPU (host) tensors. In order to create\n",
        "tensors on other devices, use tf.identity. (If the value is an eager\n",
        "Tensor, however, the tensor will be returned unmodified as mentioned above.)\n",
        "\n",
        "Related Ops:\n",
        "\n",
        "\n",
        "tf.convert_to_tensor is similar but:\n",
        "\n",
        "It has no shape argument.\n",
        "\n",
        "Symbolic tensors are allowed to pass through.\n",
        "\n",
        "\n",
        "\n",
        "\n",
        ">>> with tf.compat.v1.Graph().as_default():\n",
        "...   i = tf.compat.v1.placeholder(shape=[None, None], dtype=tf.float32)\n",
        "...   t = tf.convert_to_tensor(i)\n",
        "\n",
        "tf.fill: differs in a few ways:\n",
        "\n",
        "tf.constant supports arbitrary constants, not just uniform scalar\n",
        "Tensors like tf.fill.\n",
        "\n",
        "tf.fill creates an Op in the graph that is expanded at runtime, so it\n",
        "can efficiently represent large tensors.\n",
        "\n",
        "Since tf.fill does not embed the value, it can produce dynamically\n",
        "sized outputs.\n",
        "\n",
        "\n",
        "\n",
        "\n",
        "Args:\n",
        "  value: A constant value (or list) of output type dtype.\n",
        "  dtype: The type of the elements of the resulting tensor.\n",
        "  shape: Optional dimensions of resulting tensor.\n",
        "  name: Optional name for the tensor.\n",
        "\n",
        "Returns:\n",
        "  A Constant Tensor.\n",
        "\n",
        "Raises:\n",
        "  TypeError: if shape is incorrectly specified or unsupported.\n",
        "  ValueError: if called on a symbolic tensor."
      ]
    },
    {
      "cell_type": "code",
      "metadata": {
        "colab": {
          "base_uri": "https://localhost:8080/"
        },
        "id": "UwTs73pj0EpO",
        "outputId": "02c435fc-8cfb-492a-94ee-b1ea7ff9d6a5"
      },
      "source": [
        "# creating tensor with tf.constant()\n",
        "scalar = tf.constant(29)\n",
        "scalar"
      ],
      "execution_count": null,
      "outputs": [
        {
          "output_type": "execute_result",
          "data": {
            "text/plain": [
              "<tf.Tensor: shape=(), dtype=int32, numpy=29>"
            ]
          },
          "metadata": {
            "tags": []
          },
          "execution_count": 19
        }
      ]
    },
    {
      "cell_type": "code",
      "metadata": {
        "colab": {
          "base_uri": "https://localhost:8080/"
        },
        "id": "lg-ddY1H1TYI",
        "outputId": "a2cd182f-d3c4-48cb-a219-0a3bbc7a3f95"
      },
      "source": [
        "scalar.ndim"
      ],
      "execution_count": null,
      "outputs": [
        {
          "output_type": "execute_result",
          "data": {
            "text/plain": [
              "0"
            ]
          },
          "metadata": {
            "tags": []
          },
          "execution_count": 20
        }
      ]
    },
    {
      "cell_type": "code",
      "metadata": {
        "colab": {
          "base_uri": "https://localhost:8080/"
        },
        "id": "a2gA4H8w1aUp",
        "outputId": "89be8ab0-7a9c-4723-e531-ef2b68725d97"
      },
      "source": [
        "vector = tf.constant([29, 29])\n",
        "vector"
      ],
      "execution_count": null,
      "outputs": [
        {
          "output_type": "execute_result",
          "data": {
            "text/plain": [
              "<tf.Tensor: shape=(2,), dtype=int32, numpy=array([29, 29], dtype=int32)>"
            ]
          },
          "metadata": {
            "tags": []
          },
          "execution_count": 21
        }
      ]
    },
    {
      "cell_type": "code",
      "metadata": {
        "colab": {
          "base_uri": "https://localhost:8080/"
        },
        "id": "QrP-GCqf17qr",
        "outputId": "82a06a78-98a0-418b-af06-bbd18244705e"
      },
      "source": [
        "vector.ndim"
      ],
      "execution_count": null,
      "outputs": [
        {
          "output_type": "execute_result",
          "data": {
            "text/plain": [
              "1"
            ]
          },
          "metadata": {
            "tags": []
          },
          "execution_count": 22
        }
      ]
    },
    {
      "cell_type": "code",
      "metadata": {
        "colab": {
          "base_uri": "https://localhost:8080/"
        },
        "id": "Mi2P_Uqq19bu",
        "outputId": "97e77165-bd4f-47ca-da98-91523aba16b0"
      },
      "source": [
        "# crate a matrix\n",
        "matrix = tf.constant([[10, 7],\n",
        "                     [7, 10]])\n",
        "matrix"
      ],
      "execution_count": null,
      "outputs": [
        {
          "output_type": "execute_result",
          "data": {
            "text/plain": [
              "<tf.Tensor: shape=(2, 2), dtype=int32, numpy=\n",
              "array([[10,  7],\n",
              "       [ 7, 10]], dtype=int32)>"
            ]
          },
          "metadata": {
            "tags": []
          },
          "execution_count": 23
        }
      ]
    },
    {
      "cell_type": "code",
      "metadata": {
        "colab": {
          "base_uri": "https://localhost:8080/"
        },
        "id": "TVXaVZVK2K1C",
        "outputId": "c4ba7cfd-04db-43a2-b41d-45c714fa1773"
      },
      "source": [
        "matrix.ndim"
      ],
      "execution_count": null,
      "outputs": [
        {
          "output_type": "execute_result",
          "data": {
            "text/plain": [
              "2"
            ]
          },
          "metadata": {
            "tags": []
          },
          "execution_count": 24
        }
      ]
    },
    {
      "cell_type": "code",
      "metadata": {
        "colab": {
          "base_uri": "https://localhost:8080/"
        },
        "id": "evsf_ZNJ2Sv5",
        "outputId": "fed7d877-40e2-4209-8056-385120c41ad2"
      },
      "source": [
        "# create another matrix\n",
        "another_martrix = tf.constant([[29, 38],\n",
        "                              [38, 29],\n",
        "                              [45, 47]], dtype = tf.float16) #specify dType with parameter\n",
        "another_martrix                          "
      ],
      "execution_count": null,
      "outputs": [
        {
          "output_type": "execute_result",
          "data": {
            "text/plain": [
              "<tf.Tensor: shape=(3, 2), dtype=float16, numpy=\n",
              "array([[29., 38.],\n",
              "       [38., 29.],\n",
              "       [45., 47.]], dtype=float16)>"
            ]
          },
          "metadata": {
            "tags": []
          },
          "execution_count": 25
        }
      ]
    },
    {
      "cell_type": "code",
      "metadata": {
        "colab": {
          "base_uri": "https://localhost:8080/"
        },
        "id": "AdkAvw0F3BOU",
        "outputId": "b814a062-74be-4041-af5e-19bc8f477e30"
      },
      "source": [
        "another_martrix.ndim"
      ],
      "execution_count": null,
      "outputs": [
        {
          "output_type": "execute_result",
          "data": {
            "text/plain": [
              "2"
            ]
          },
          "metadata": {
            "tags": []
          },
          "execution_count": 26
        }
      ]
    },
    {
      "cell_type": "code",
      "metadata": {
        "colab": {
          "base_uri": "https://localhost:8080/"
        },
        "id": "eiw0eNU_3PBv",
        "outputId": "67a0b902-6f0b-44d6-9eae-e628bd6e60a3"
      },
      "source": [
        "# crate tensor\n",
        "tensor = tf.constant([[[1, 2, 3],\n",
        "                       [3, 4, 5]],\n",
        "                      [[4, 5, 6],\n",
        "                       [7, 8, 9]],\n",
        "                      [[10, 11, 12],\n",
        "                       [13, 14, 15]]]) # hard to read eh? too many brackets and coomas :(\n",
        "tensor"
      ],
      "execution_count": null,
      "outputs": [
        {
          "output_type": "execute_result",
          "data": {
            "text/plain": [
              "<tf.Tensor: shape=(3, 2, 3), dtype=int32, numpy=\n",
              "array([[[ 1,  2,  3],\n",
              "        [ 3,  4,  5]],\n",
              "\n",
              "       [[ 4,  5,  6],\n",
              "        [ 7,  8,  9]],\n",
              "\n",
              "       [[10, 11, 12],\n",
              "        [13, 14, 15]]], dtype=int32)>"
            ]
          },
          "metadata": {
            "tags": []
          },
          "execution_count": 27
        }
      ]
    },
    {
      "cell_type": "code",
      "metadata": {
        "colab": {
          "base_uri": "https://localhost:8080/"
        },
        "id": "VURh65F74cFz",
        "outputId": "6ecdbd9a-dd3b-43c7-cb96-0076e6bc9982"
      },
      "source": [
        "tensor.ndim"
      ],
      "execution_count": null,
      "outputs": [
        {
          "output_type": "execute_result",
          "data": {
            "text/plain": [
              "3"
            ]
          },
          "metadata": {
            "tags": []
          },
          "execution_count": 28
        }
      ]
    },
    {
      "cell_type": "markdown",
      "metadata": {
        "id": "TF_k_KjO4mKI"
      },
      "source": [
        "## Crating Tensors with `tf.Variable` :)"
      ]
    },
    {
      "cell_type": "code",
      "metadata": {
        "colab": {
          "base_uri": "https://localhost:8080/"
        },
        "id": "9gqz9-0U5VkH",
        "outputId": "d8a84a6a-9352-4026-f10c-b9afab0b36a8"
      },
      "source": [
        "changeable_tensor = tf.Variable([10, 7])\n",
        "unchangeable_tensor = tf.constant([10, 7])\n",
        "changeable_tensor, unchangeable_tensor"
      ],
      "execution_count": null,
      "outputs": [
        {
          "output_type": "execute_result",
          "data": {
            "text/plain": [
              "(<tf.Variable 'Variable:0' shape=(2,) dtype=int32, numpy=array([10,  7], dtype=int32)>,\n",
              " <tf.Tensor: shape=(2,), dtype=int32, numpy=array([10,  7], dtype=int32)>)"
            ]
          },
          "metadata": {
            "tags": []
          },
          "execution_count": 29
        }
      ]
    },
    {
      "cell_type": "code",
      "metadata": {
        "colab": {
          "base_uri": "https://localhost:8080/",
          "height": 207
        },
        "id": "9gHUpxJu607W",
        "outputId": "22d64e2d-2c47-43b3-eda1-a38b3a5688fa"
      },
      "source": [
        "# Let's change values of this tensors\n",
        "changeable_tensor[0] = 7\n",
        "changeable_tensor"
      ],
      "execution_count": null,
      "outputs": [
        {
          "output_type": "error",
          "ename": "TypeError",
          "evalue": "ignored",
          "traceback": [
            "\u001b[0;31m---------------------------------------------------------------------------\u001b[0m",
            "\u001b[0;31mTypeError\u001b[0m                                 Traceback (most recent call last)",
            "\u001b[0;32m<ipython-input-30-900b17dfecb8>\u001b[0m in \u001b[0;36m<module>\u001b[0;34m()\u001b[0m\n\u001b[1;32m      1\u001b[0m \u001b[0;31m# Let's change values of this tensors\u001b[0m\u001b[0;34m\u001b[0m\u001b[0;34m\u001b[0m\u001b[0;34m\u001b[0m\u001b[0m\n\u001b[0;32m----> 2\u001b[0;31m \u001b[0mchangeable_tensor\u001b[0m\u001b[0;34m[\u001b[0m\u001b[0;36m0\u001b[0m\u001b[0;34m]\u001b[0m \u001b[0;34m=\u001b[0m \u001b[0;36m7\u001b[0m\u001b[0;34m\u001b[0m\u001b[0;34m\u001b[0m\u001b[0m\n\u001b[0m\u001b[1;32m      3\u001b[0m \u001b[0mchangeable_tensor\u001b[0m\u001b[0;34m\u001b[0m\u001b[0;34m\u001b[0m\u001b[0m\n",
            "\u001b[0;31mTypeError\u001b[0m: 'ResourceVariable' object does not support item assignment"
          ]
        }
      ]
    },
    {
      "cell_type": "code",
      "metadata": {
        "id": "pLR0gMsC7ADh"
      },
      "source": [
        "changeable_tensor[0].assign(7)\n",
        "changeable_tensor"
      ],
      "execution_count": null,
      "outputs": []
    },
    {
      "cell_type": "code",
      "metadata": {
        "id": "Y2p32ESH7HCR"
      },
      "source": [
        "unchangeable_tensor[0].assign(7)\n",
        "unchangeable_tensor"
      ],
      "execution_count": null,
      "outputs": []
    },
    {
      "cell_type": "markdown",
      "metadata": {
        "id": "S0n6Ns0i7MSm"
      },
      "source": [
        "#Creating random tensors"
      ]
    },
    {
      "cell_type": "markdown",
      "metadata": {
        "id": "Wp1QSLI87bxg"
      },
      "source": [
        "## Random tensors are tensors of some arbitary size which contains random numbers"
      ]
    },
    {
      "cell_type": "code",
      "metadata": {
        "id": "K3rhdoSu7149"
      },
      "source": [
        "random_1 = tf.random.Generator.from_seed(38)\n",
        "random_1 = random_1.normal(shape=(3, 2))\n",
        "random_2 = tf.random.Generator.from_seed(38)\n",
        "random_2 = random_2.normal(shape=(3, 2))\n",
        "random_1, random_2, random_1 == random_2 #Looks like we've created tensors with random values but in real this are just psuedo random numbers that's why i use from_seed(`number`) to generate pseudo random number with same seed"
      ],
      "execution_count": null,
      "outputs": []
    },
    {
      "cell_type": "markdown",
      "metadata": {
        "id": "qhV7h6SC96rR"
      },
      "source": [
        "### shuffle the order of elements in a tensor"
      ]
    },
    {
      "cell_type": "code",
      "metadata": {
        "id": "d39CFZje-xcR"
      },
      "source": [
        "# shuffle the tensor( used when you want to shuffle the data so the inherent order doesn't affect learning)\n",
        "not_shuffled = tf.constant([[10, 7],\n",
        "                            [29, 38],\n",
        "                            [45, 47]])\n",
        "not_shuffled, not_shuffled.ndim"
      ],
      "execution_count": null,
      "outputs": []
    },
    {
      "cell_type": "code",
      "metadata": {
        "id": "N0jZ42HE_iKr"
      },
      "source": [
        "# Shuffle our tensor\n",
        "tf.random.set_seed(29) # global random seed\n",
        "tf.random.shuffle(not_shuffled) # will produce same value everytime coz of global random seed"
      ],
      "execution_count": null,
      "outputs": []
    },
    {
      "cell_type": "code",
      "metadata": {
        "id": "PFxMqgfYAGrw"
      },
      "source": [
        "print(tf.random.uniform([1]))  # generates 'A1'\n",
        "print(tf.random.uniform([1]))  # generates 'A2' # getting different value because ther is no global random seed"
      ],
      "execution_count": null,
      "outputs": []
    },
    {
      "cell_type": "code",
      "metadata": {
        "id": "26S2e7QqB8zD"
      },
      "source": [
        "tf.random.set_seed(1234)\n",
        "print(tf.random.uniform([1]))  # generates 'A1'\n",
        "print(tf.random.uniform([1]))  # generates 'A2' # getting same value because of global random seed"
      ],
      "execution_count": null,
      "outputs": []
    },
    {
      "cell_type": "code",
      "metadata": {
        "id": "tJKSg203B72l"
      },
      "source": [
        "tf.random.set_seed(1234)\n",
        "\n",
        "@tf.function\n",
        "def f():\n",
        "  a = tf.random.uniform([1])\n",
        "  b = tf.random.uniform([1])\n",
        "  return a, b\n",
        "\n",
        "@tf.function\n",
        "def g():\n",
        "  a = tf.random.uniform([1])\n",
        "  b = tf.random.uniform([1])\n",
        "  return a, b\n",
        "\n",
        "print(f())  # prints '(A1, A2)'\n",
        "print(g())  # prints '(A1, A2)'"
      ],
      "execution_count": null,
      "outputs": []
    },
    {
      "cell_type": "code",
      "metadata": {
        "id": "HbhUnWWOCZ-e"
      },
      "source": [
        "print(tf.random.uniform([1], seed=1))  # generates 'A1'\n",
        "print(tf.random.uniform([1], seed=1))  # generates 'A2'"
      ],
      "execution_count": null,
      "outputs": []
    },
    {
      "cell_type": "code",
      "metadata": {
        "id": "_p61TuX9ChP2"
      },
      "source": [
        "@tf.function\n",
        "def foo():\n",
        "  a = tf.random.uniform([1], seed=1)\n",
        "  b = tf.random.uniform([1], seed=1)\n",
        "  return a, b\n",
        "print(foo())  # prints '(A1, A1)'\n",
        "print(foo())  # prints '(A2, A2)'\n",
        "\n",
        "@tf.function\n",
        "def bar():\n",
        "  a = tf.random.uniform([1])\n",
        "  b = tf.random.uniform([1])\n",
        "  return a, b\n",
        "print(bar())  # prints '(A1, A2)'\n",
        "print(bar())  # prints '(A3, A4)'"
      ],
      "execution_count": null,
      "outputs": []
    },
    {
      "cell_type": "code",
      "metadata": {
        "id": "q6vA2RCMEJlO"
      },
      "source": [
        "## create a tensor of all ones\n",
        "tf.ones([10, 7], dtype=tf.int32) # by default it generate tf.float32"
      ],
      "execution_count": null,
      "outputs": []
    },
    {
      "cell_type": "code",
      "metadata": {
        "id": "4nMx6prhE1_R"
      },
      "source": [
        "# create a tensor of all zeros\n",
        "tf.zeros([10, 7], dtype=tf.int32) # by default it generate tf.float32"
      ],
      "execution_count": null,
      "outputs": []
    },
    {
      "cell_type": "markdown",
      "metadata": {
        "id": "7QNPG7e2FX-J"
      },
      "source": [
        "### Turn Numpy arrays into tensors\n",
        "TensorFlow tensors can run much faster on GPU"
      ]
    },
    {
      "cell_type": "code",
      "metadata": {
        "id": "F7UF7PgAE-1Z"
      },
      "source": [
        "# converting numpy arrays in to tensors\n",
        "import numpy as np\n",
        "numpy_A = np.arange(1, 25, dtype=np.int32)\n",
        "numpy_A"
      ],
      "execution_count": null,
      "outputs": []
    },
    {
      "cell_type": "code",
      "metadata": {
        "id": "nrjekrEdF40l"
      },
      "source": [
        "A = tf.constant(numpy_A, shape=(2, 3, 4))\n",
        "A"
      ],
      "execution_count": null,
      "outputs": []
    },
    {
      "cell_type": "code",
      "metadata": {
        "id": "NY2EZQXuGHfQ"
      },
      "source": [
        "2 * 3 * 4"
      ],
      "execution_count": null,
      "outputs": []
    },
    {
      "cell_type": "markdown",
      "metadata": {
        "id": "Aw7n43IeMVuD"
      },
      "source": [
        "There will be times when you'll want to get different pieces of information from your tensors, in particuluar, you should know the following tensor vocabulary:\n",
        "\n",
        "* Shape: The length (number of elements) of each of the dimensions of a tensor.\n",
        "* Rank: The number of tensor dimensions. A scalar has rank 0, a vector has rank 1, a matrix is rank 2, a tensor has rank n.\n",
        "* Axis or Dimension: A particular dimension of a tensor.\n",
        "* Size: The total number of items in the tensor."
      ]
    },
    {
      "cell_type": "code",
      "metadata": {
        "id": "0Dk3hwYQGxT-"
      },
      "source": [
        "# rank_4_tensor = tf.zeros(shape=[2, 3, 4, 5])\n",
        "rank_4_tensor = tf.zeros([2, 3, 4, 5])\n",
        "rank_4_tensor"
      ],
      "execution_count": null,
      "outputs": []
    },
    {
      "cell_type": "code",
      "metadata": {
        "id": "tSqtFVa8NX8T"
      },
      "source": [
        "rank_4_tensor[0]"
      ],
      "execution_count": null,
      "outputs": []
    },
    {
      "cell_type": "code",
      "metadata": {
        "id": "K3v3gODQNcYl"
      },
      "source": [
        "rank_4_tensor[0][1]"
      ],
      "execution_count": null,
      "outputs": []
    },
    {
      "cell_type": "code",
      "metadata": {
        "id": "YsmWn414NguI"
      },
      "source": [
        "rank_4_tensor.shape, rank_4_tensor.ndim, tf.size(rank_4_tensor)"
      ],
      "execution_count": null,
      "outputs": []
    },
    {
      "cell_type": "code",
      "metadata": {
        "id": "crRA7hknN-_N"
      },
      "source": [
        "# Get various attributes of tensor\n",
        "print(\"Datatype of every element:\", rank_4_tensor.dtype)\n",
        "print(\"Number of dimensions (rank):\", rank_4_tensor.ndim)\n",
        "print(\"Shape of tensor:\", rank_4_tensor.shape)\n",
        "print(\"Elements along axis 0 of tensor:\", rank_4_tensor.shape[0])\n",
        "print(\"Elements along last axis of tensor:\", rank_4_tensor.shape[-1])\n",
        "print(\"Total number of elements (2*3*4*5):\", tf.size(rank_4_tensor).numpy()) # .numpy() converts to NumPy array"
      ],
      "execution_count": null,
      "outputs": []
    },
    {
      "cell_type": "markdown",
      "metadata": {
        "id": "v7apEVx2PbNk"
      },
      "source": [
        "## Indexing the tensors"
      ]
    },
    {
      "cell_type": "code",
      "metadata": {
        "id": "WDbxnMoxPCIk"
      },
      "source": [
        "# Get first 2 elements of each dimension\n",
        "rank_4_tensor[:2, :2, :2, :2]"
      ],
      "execution_count": null,
      "outputs": []
    },
    {
      "cell_type": "code",
      "metadata": {
        "id": "E_rugSvUPy5a"
      },
      "source": [
        "# Create rank 2 tensor\n",
        "rank_2_tensor = tf.constant([[3, 4],\n",
        "                             [5, 6]])\n",
        "rank_2_tensor"
      ],
      "execution_count": null,
      "outputs": []
    },
    {
      "cell_type": "code",
      "metadata": {
        "id": "PUaRFoXQRLh_"
      },
      "source": [
        "rank_2_tensor[:, -1]"
      ],
      "execution_count": null,
      "outputs": []
    },
    {
      "cell_type": "code",
      "metadata": {
        "id": "KSb6VGBMR5k3"
      },
      "source": [
        "# adding dimension to rank_2_tensor\n",
        "rank_3_tensor = rank_2_tensor[..., tf.newaxis]\n",
        "rank_3_tensor"
      ],
      "execution_count": null,
      "outputs": []
    },
    {
      "cell_type": "markdown",
      "metadata": {
        "id": "TyOOSNxz4bPo"
      },
      "source": [
        "# Matrix mutliplication\n",
        "The main two rules for matrix multiplication to remember are:\n",
        "\n",
        "1. The inner dimensions must match:\n",
        "  * (3, 5) @ (3, 5) won't work\n",
        "  * (5, 3) @ (3, 5) will work\n",
        "  * (3, 5) @ (5, 3) will work\n",
        "2. The resulting matrix has the shape of the inner dimensions:\n",
        "  * (5, 3) @ (3, 5) -> (3, 3)\n",
        "  * (3, 5) @ (5, 3) -> (5, 5)"
      ]
    },
    {
      "cell_type": "code",
      "metadata": {
        "id": "e8FcBlYaSWPa"
      },
      "source": [
        "a = tf.constant([[1, 2, 5],\n",
        "                 [7, 2, 1],\n",
        "                 [3, 3, 3]])\n",
        "b = tf.constant([[3, 5],\n",
        "                 [6, 7],\n",
        "                 [1, 8]])\n",
        "\n",
        "print(a, b, \"\\n\")\n",
        "a.shape, b.shape"
      ],
      "execution_count": null,
      "outputs": []
    },
    {
      "cell_type": "code",
      "metadata": {
        "id": "kHtqb__F66Vd"
      },
      "source": [
        "tf.matmul(a, b)"
      ],
      "execution_count": null,
      "outputs": []
    },
    {
      "cell_type": "code",
      "metadata": {
        "id": "XanADGN-7LnG"
      },
      "source": [
        "# matrix multiplication with python operator\n",
        "a @ b"
      ],
      "execution_count": null,
      "outputs": []
    },
    {
      "cell_type": "code",
      "metadata": {
        "id": "TOA-BLys7PRn"
      },
      "source": [
        "\n",
        "# Create (3, 2) tensor\n",
        "X = tf.constant([[1, 2],\n",
        "                 [3, 4],\n",
        "                 [5, 6]])\n",
        "\n",
        "# Create another (3, 2) tensor\n",
        "Y = tf.constant([[7, 8],\n",
        "                 [9, 10],\n",
        "                 [11, 12]])\n",
        "X, Y"
      ],
      "execution_count": null,
      "outputs": []
    },
    {
      "cell_type": "code",
      "metadata": {
        "id": "qbUy_vot77B_"
      },
      "source": [
        "tf.matmul(X, Y)"
      ],
      "execution_count": null,
      "outputs": []
    },
    {
      "cell_type": "code",
      "metadata": {
        "id": "8s5zvRioDdn0"
      },
      "source": [
        "X.shape, Y.shape"
      ],
      "execution_count": null,
      "outputs": []
    },
    {
      "cell_type": "code",
      "metadata": {
        "id": "OC3lxAve7-kI"
      },
      "source": [
        "X.shape, tf.reshape(Y, shape=(2, 3)).shape"
      ],
      "execution_count": null,
      "outputs": []
    },
    {
      "cell_type": "code",
      "metadata": {
        "id": "p3y4Cti1DbC_"
      },
      "source": [
        "tf.matmul(X, tf.reshape(Y, shape=(2, 3)))"
      ],
      "execution_count": null,
      "outputs": []
    },
    {
      "cell_type": "code",
      "metadata": {
        "id": "nH4Cl7RdDjrw"
      },
      "source": [
        "tf.matmul(tf.reshape(X, shape=(2, 3)), Y)"
      ],
      "execution_count": null,
      "outputs": []
    },
    {
      "cell_type": "markdown",
      "metadata": {
        "id": "28OMDIpBD0Uq"
      },
      "source": [
        "## The DOT product\n",
        "Multiplying matrices by eachother is also referred to as the dot product.\n",
        "\n",
        "You can perform the `tf.matmul()` operation using `tf.tensordot()`."
      ]
    },
    {
      "cell_type": "code",
      "metadata": {
        "id": "2Du-94BuFXgO"
      },
      "source": [
        "X, Y"
      ],
      "execution_count": null,
      "outputs": []
    },
    {
      "cell_type": "code",
      "metadata": {
        "id": "KkNXPqfuF3RE"
      },
      "source": [
        "tf.tensordot(tf.transpose(X), Y, axes=1)"
      ],
      "execution_count": null,
      "outputs": []
    },
    {
      "cell_type": "markdown",
      "metadata": {
        "id": "S4obZ2awGMDf"
      },
      "source": [
        "# Changing the datatype of a tensor\n",
        "Sometimes you'll want to alter the default datatype of your tensor.\n",
        "\n",
        "This is common when you want to compute using less precision (e.g. 16-bit floating point numbers vs. 32-bit floating point numbers).\n",
        "\n",
        "Computing with less precision is useful on devices with less computing capacity such as mobile devices (because the less bits, the less space the computations require).\n",
        "\n",
        "You can change the datatype of a tensor using tf.cast()."
      ]
    },
    {
      "cell_type": "code",
      "metadata": {
        "id": "JtlyynJiIE6Q"
      },
      "source": [
        "# Create a new tensor with default datatype (float32)\n",
        "B = tf.constant([1.7, 7.4])\n",
        "\n",
        "# Create a new tensor with default datatype (int32)\n",
        "C = tf.constant([1, 7])\n",
        "B, C"
      ],
      "execution_count": null,
      "outputs": []
    },
    {
      "cell_type": "code",
      "metadata": {
        "id": "1m7m6haWJTrX"
      },
      "source": [
        "# Change from float32 to float16 (reduced precision)\n",
        "B = tf.cast(B, dtype=tf.float16)\n",
        "B"
      ],
      "execution_count": null,
      "outputs": []
    },
    {
      "cell_type": "code",
      "metadata": {
        "id": "f5vJ3jCGJWGz"
      },
      "source": [
        "# Change from int32 to float32\n",
        "C = tf.cast(C, dtype=tf.float32)\n",
        "C"
      ],
      "execution_count": null,
      "outputs": []
    },
    {
      "cell_type": "code",
      "metadata": {
        "id": "t_0brNkFJYCs"
      },
      "source": [
        "# Change from int32 to int32\n",
        "A = tf.cast(C, dtype=tf.int16)\n",
        "A"
      ],
      "execution_count": null,
      "outputs": []
    },
    {
      "cell_type": "code",
      "metadata": {
        "id": "Rm_g2KqPJn0Q"
      },
      "source": [
        "# Change from float32 to int32\n",
        "E = tf.cast(B, dtype=tf.int32)\n",
        "E"
      ],
      "execution_count": null,
      "outputs": []
    },
    {
      "cell_type": "markdown",
      "metadata": {
        "id": "lYY2KiF4KJSq"
      },
      "source": [
        "# Aggregating Tensors"
      ]
    },
    {
      "cell_type": "code",
      "metadata": {
        "id": "eQUNX-dvKRov"
      },
      "source": [
        "D = tf.constant([-29, -38])\n",
        "D"
      ],
      "execution_count": null,
      "outputs": []
    },
    {
      "cell_type": "code",
      "metadata": {
        "id": "9PjPI9g5LLvH"
      },
      "source": [
        "tf.abs(D)"
      ],
      "execution_count": null,
      "outputs": []
    },
    {
      "cell_type": "markdown",
      "metadata": {
        "id": "gMID_yvkLS_t"
      },
      "source": [
        "#Finding the min, max, mean, sum (aggregation)\n",
        "You can quickly aggregate (perform a calculation on a whole tensor) tensors to find things like the minimum value, maximum value, mean and sum of all the elements.\n",
        "\n",
        "To do so, aggregation methods typically have the syntax reduce()_[action], such as:\n",
        "\n",
        "* tf.reduce_min() - find the minimum value in a tensor.\n",
        "* tf.reduce_max() - find the maximum value in a tensor (helpful for when you want to find the highest prediction probability).\n",
        "* tf.reduce_mean() - find the mean of all elements in a tensor.\n",
        "* tf.reduce_sum() - find the sum of all elements in a tensor.\n",
        "* Note: typically, each of these is under the math module, e.g. tf.math.reduce_min() but you can use the alias tf.reduce_min().\n",
        "Let's see them in action."
      ]
    },
    {
      "cell_type": "code",
      "metadata": {
        "id": "RebPngXCMJeq"
      },
      "source": [
        "import numpy as np"
      ],
      "execution_count": null,
      "outputs": []
    },
    {
      "cell_type": "code",
      "metadata": {
        "id": "Oc7jD3--Lx1L"
      },
      "source": [
        "# creating random tensor (large)\n",
        "E = tf.constant(np.random.randint(0, 100, size = 50))\n",
        "E"
      ],
      "execution_count": null,
      "outputs": []
    },
    {
      "cell_type": "code",
      "metadata": {
        "id": "ihPDXAIWMGIh"
      },
      "source": [
        "tf.size(E), E.shape, E.ndim"
      ],
      "execution_count": null,
      "outputs": []
    },
    {
      "cell_type": "code",
      "metadata": {
        "id": "I59J1GHjMXoZ"
      },
      "source": [
        "# Find minimum\n",
        "tf.reduce_min(E)"
      ],
      "execution_count": null,
      "outputs": []
    },
    {
      "cell_type": "code",
      "metadata": {
        "id": "rMeCuP2tMm6B"
      },
      "source": [
        "# Find maximum\n",
        "tf.reduce_max(E)"
      ],
      "execution_count": null,
      "outputs": []
    },
    {
      "cell_type": "code",
      "metadata": {
        "id": "n6BJLuLGMtRD"
      },
      "source": [
        "# Find the mean\n",
        "tf.reduce_mean(E)"
      ],
      "execution_count": null,
      "outputs": []
    },
    {
      "cell_type": "code",
      "metadata": {
        "id": "ncUf9surMyRb"
      },
      "source": [
        "# Find the sum\n",
        "tf.reduce_sum(E)"
      ],
      "execution_count": null,
      "outputs": []
    },
    {
      "cell_type": "code",
      "metadata": {
        "id": "YGNjWhedM3CY"
      },
      "source": [
        "# Find the variance\n",
        "tf.nn.moments(E, axes=0)"
      ],
      "execution_count": null,
      "outputs": []
    },
    {
      "cell_type": "code",
      "metadata": {
        "id": "A4ZsNvCvO8Pk"
      },
      "source": [
        "# Another method to find variance\n",
        "import tensorflow_probability as tfp"
      ],
      "execution_count": null,
      "outputs": []
    },
    {
      "cell_type": "code",
      "metadata": {
        "id": "T_nsjFCQQref"
      },
      "source": [
        "tfp.stats.variance(E) #1 method note: vairance in int"
      ],
      "execution_count": null,
      "outputs": []
    },
    {
      "cell_type": "code",
      "metadata": {
        "id": "4aneMztAQxl_"
      },
      "source": [
        "tf.math.reduce_variance(tf.cast(E, dtype=tf.float16)) #2 method note: vairance in float"
      ],
      "execution_count": null,
      "outputs": []
    },
    {
      "cell_type": "code",
      "metadata": {
        "id": "f1oLbd0wNTA7"
      },
      "source": [
        "# Find the standard Deviation\n",
        "tf.math.reduce_std(tf.cast(E, dtype=tf.float16)) # or tf.float32 will do with double memory consumption"
      ],
      "execution_count": null,
      "outputs": []
    },
    {
      "cell_type": "code",
      "metadata": {
        "id": "QXmgGkEaOVOF"
      },
      "source": [
        "# want to use bash?\n",
        "!bash"
      ],
      "execution_count": null,
      "outputs": []
    },
    {
      "cell_type": "code",
      "metadata": {
        "colab": {
          "base_uri": "https://localhost:8080/"
        },
        "id": "UrXT5Iyt0l6d",
        "outputId": "f22227b5-052b-4f7d-eaac-bb1dd829749b"
      },
      "source": [
        "# Find the positional maximum and minimum\n",
        "tf.random.set_seed(29)\n",
        "F = tf.random.uniform(shape=[50])\n",
        "F"
      ],
      "execution_count": null,
      "outputs": [
        {
          "output_type": "execute_result",
          "data": {
            "text/plain": [
              "<tf.Tensor: shape=(50,), dtype=float32, numpy=\n",
              "array([0.22340703, 0.39183307, 0.22348964, 0.2816745 , 0.94804025,\n",
              "       0.79663575, 0.66978335, 0.5309613 , 0.75650704, 0.3351189 ,\n",
              "       0.9920033 , 0.1204809 , 0.58007467, 0.38786924, 0.32651854,\n",
              "       0.3815912 , 0.43200243, 0.1508205 , 0.24685323, 0.49803722,\n",
              "       0.37090683, 0.11783051, 0.5026778 , 0.9324962 , 0.61422026,\n",
              "       0.59533   , 0.9282651 , 0.16858912, 0.7827904 , 0.4166478 ,\n",
              "       0.15587008, 0.4053272 , 0.11497223, 0.81684244, 0.9850751 ,\n",
              "       0.82948864, 0.06480718, 0.56691587, 0.6045724 , 0.55613196,\n",
              "       0.7914666 , 0.11840737, 0.7078321 , 0.5141301 , 0.56695807,\n",
              "       0.60106146, 0.11790371, 0.34143245, 0.36056364, 0.33962345],\n",
              "      dtype=float32)>"
            ]
          },
          "metadata": {
            "tags": []
          },
          "execution_count": 33
        }
      ]
    },
    {
      "cell_type": "code",
      "metadata": {
        "colab": {
          "base_uri": "https://localhost:8080/"
        },
        "id": "PF7njdul6HHM",
        "outputId": "1e0768ca-9fef-4d48-f3ad-c419f54012af"
      },
      "source": [
        "# positional maximum\n",
        "tf.argmax(F)"
      ],
      "execution_count": null,
      "outputs": [
        {
          "output_type": "execute_result",
          "data": {
            "text/plain": [
              "<tf.Tensor: shape=(), dtype=int64, numpy=10>"
            ]
          },
          "metadata": {
            "tags": []
          },
          "execution_count": 34
        }
      ]
    },
    {
      "cell_type": "code",
      "metadata": {
        "colab": {
          "base_uri": "https://localhost:8080/"
        },
        "id": "jSipS6FY6jZa",
        "outputId": "f727f6cc-4639-45be-ae80-3c25284653a8"
      },
      "source": [
        "# index on our largest value positional\n",
        "F[tf.argmax(F)]"
      ],
      "execution_count": null,
      "outputs": [
        {
          "output_type": "execute_result",
          "data": {
            "text/plain": [
              "<tf.Tensor: shape=(), dtype=float32, numpy=0.9920033>"
            ]
          },
          "metadata": {
            "tags": []
          },
          "execution_count": 35
        }
      ]
    },
    {
      "cell_type": "code",
      "metadata": {
        "colab": {
          "base_uri": "https://localhost:8080/"
        },
        "id": "CWjReoCP7DXJ",
        "outputId": "c4263468-31e5-4497-b132-884ba937db0d"
      },
      "source": [
        "# max value of F\n",
        "tf.reduce_max(F)"
      ],
      "execution_count": null,
      "outputs": [
        {
          "output_type": "execute_result",
          "data": {
            "text/plain": [
              "<tf.Tensor: shape=(), dtype=float32, numpy=0.9920033>"
            ]
          },
          "metadata": {
            "tags": []
          },
          "execution_count": 36
        }
      ]
    },
    {
      "cell_type": "code",
      "metadata": {
        "colab": {
          "base_uri": "https://localhost:8080/"
        },
        "id": "taUO1lKl7NkA",
        "outputId": "eb553c93-aea7-46fd-d9b8-e7589cd7ffc0"
      },
      "source": [
        "F[tf.argmax(F)] == tf.reduce_max(F)"
      ],
      "execution_count": null,
      "outputs": [
        {
          "output_type": "execute_result",
          "data": {
            "text/plain": [
              "<tf.Tensor: shape=(), dtype=bool, numpy=True>"
            ]
          },
          "metadata": {
            "tags": []
          },
          "execution_count": 37
        }
      ]
    },
    {
      "cell_type": "code",
      "metadata": {
        "colab": {
          "base_uri": "https://localhost:8080/"
        },
        "id": "wmL3_kCG7TSv",
        "outputId": "15510c96-1ed6-458b-9f0a-7fe2b85ce8c0"
      },
      "source": [
        "# find the positional minimum\n",
        "tf.argmin(F)"
      ],
      "execution_count": null,
      "outputs": [
        {
          "output_type": "execute_result",
          "data": {
            "text/plain": [
              "<tf.Tensor: shape=(), dtype=int64, numpy=36>"
            ]
          },
          "metadata": {
            "tags": []
          },
          "execution_count": 39
        }
      ]
    },
    {
      "cell_type": "code",
      "metadata": {
        "colab": {
          "base_uri": "https://localhost:8080/"
        },
        "id": "YLzixQ057gp_",
        "outputId": "a20e93a6-fad0-482f-ca5e-6f59d27de83e"
      },
      "source": [
        "F[tf.argmin(F)]"
      ],
      "execution_count": null,
      "outputs": [
        {
          "output_type": "execute_result",
          "data": {
            "text/plain": [
              "<tf.Tensor: shape=(), dtype=float32, numpy=0.06480718>"
            ]
          },
          "metadata": {
            "tags": []
          },
          "execution_count": 40
        }
      ]
    },
    {
      "cell_type": "markdown",
      "metadata": {
        "id": "eECWNUjy7rFE"
      },
      "source": [
        "# sqeezing a tensor (removing all single dimensions)"
      ]
    },
    {
      "cell_type": "code",
      "metadata": {
        "colab": {
          "base_uri": "https://localhost:8080/"
        },
        "id": "AgvGzfJR799x",
        "outputId": "c1f9a5b2-9149-454c-c85a-ceed0df608e5"
      },
      "source": [
        "# create a tensor\n",
        "tf.random.set_seed(29)\n",
        "G = tf.constant(tf.random.uniform(shape=[50]), shape=(1, 1, 1, 1, 50))\n",
        "G"
      ],
      "execution_count": null,
      "outputs": [
        {
          "output_type": "execute_result",
          "data": {
            "text/plain": [
              "<tf.Tensor: shape=(1, 1, 1, 1, 50), dtype=float32, numpy=\n",
              "array([[[[[0.22340703, 0.39183307, 0.22348964, 0.2816745 , 0.94804025,\n",
              "           0.79663575, 0.66978335, 0.5309613 , 0.75650704, 0.3351189 ,\n",
              "           0.9920033 , 0.1204809 , 0.58007467, 0.38786924, 0.32651854,\n",
              "           0.3815912 , 0.43200243, 0.1508205 , 0.24685323, 0.49803722,\n",
              "           0.37090683, 0.11783051, 0.5026778 , 0.9324962 , 0.61422026,\n",
              "           0.59533   , 0.9282651 , 0.16858912, 0.7827904 , 0.4166478 ,\n",
              "           0.15587008, 0.4053272 , 0.11497223, 0.81684244, 0.9850751 ,\n",
              "           0.82948864, 0.06480718, 0.56691587, 0.6045724 , 0.55613196,\n",
              "           0.7914666 , 0.11840737, 0.7078321 , 0.5141301 , 0.56695807,\n",
              "           0.60106146, 0.11790371, 0.34143245, 0.36056364, 0.33962345]]]]],\n",
              "      dtype=float32)>"
            ]
          },
          "metadata": {
            "tags": []
          },
          "execution_count": 43
        }
      ]
    },
    {
      "cell_type": "code",
      "metadata": {
        "colab": {
          "base_uri": "https://localhost:8080/"
        },
        "id": "cexRyaX28Kco",
        "outputId": "dce3081a-9740-4abb-9d3a-617174853ae3"
      },
      "source": [
        "G.shape"
      ],
      "execution_count": null,
      "outputs": [
        {
          "output_type": "execute_result",
          "data": {
            "text/plain": [
              "TensorShape([1, 1, 1, 1, 50])"
            ]
          },
          "metadata": {
            "tags": []
          },
          "execution_count": 44
        }
      ]
    },
    {
      "cell_type": "code",
      "metadata": {
        "colab": {
          "base_uri": "https://localhost:8080/"
        },
        "id": "7h8BChke8bk_",
        "outputId": "eaf849b4-deb4-4908-90c3-1bbabf7576b9"
      },
      "source": [
        "G_squeezed = tf.squeeze(G)\n",
        "G_squeezed"
      ],
      "execution_count": null,
      "outputs": [
        {
          "output_type": "execute_result",
          "data": {
            "text/plain": [
              "<tf.Tensor: shape=(50,), dtype=float32, numpy=\n",
              "array([0.22340703, 0.39183307, 0.22348964, 0.2816745 , 0.94804025,\n",
              "       0.79663575, 0.66978335, 0.5309613 , 0.75650704, 0.3351189 ,\n",
              "       0.9920033 , 0.1204809 , 0.58007467, 0.38786924, 0.32651854,\n",
              "       0.3815912 , 0.43200243, 0.1508205 , 0.24685323, 0.49803722,\n",
              "       0.37090683, 0.11783051, 0.5026778 , 0.9324962 , 0.61422026,\n",
              "       0.59533   , 0.9282651 , 0.16858912, 0.7827904 , 0.4166478 ,\n",
              "       0.15587008, 0.4053272 , 0.11497223, 0.81684244, 0.9850751 ,\n",
              "       0.82948864, 0.06480718, 0.56691587, 0.6045724 , 0.55613196,\n",
              "       0.7914666 , 0.11840737, 0.7078321 , 0.5141301 , 0.56695807,\n",
              "       0.60106146, 0.11790371, 0.34143245, 0.36056364, 0.33962345],\n",
              "      dtype=float32)>"
            ]
          },
          "metadata": {
            "tags": []
          },
          "execution_count": 47
        }
      ]
    },
    {
      "cell_type": "markdown",
      "metadata": {
        "id": "O9fdN8Kx84PS"
      },
      "source": [
        "# One Hot Encoding"
      ]
    },
    {
      "cell_type": "code",
      "metadata": {
        "colab": {
          "base_uri": "https://localhost:8080/"
        },
        "id": "zY9CulU-9_Gc",
        "outputId": "74bd1037-6324-45ce-8164-2765f40f735a"
      },
      "source": [
        "# create a list of indices\n",
        "some_list = [0, 1, 2, 3] #could be green, red, blue, purple\n",
        "tf.one_hot(some_list, depth=4) # depth should be equal to the elemenets in the data\n"
      ],
      "execution_count": null,
      "outputs": [
        {
          "output_type": "execute_result",
          "data": {
            "text/plain": [
              "<tf.Tensor: shape=(4, 4), dtype=float32, numpy=\n",
              "array([[1., 0., 0., 0.],\n",
              "       [0., 1., 0., 0.],\n",
              "       [0., 0., 1., 0.],\n",
              "       [0., 0., 0., 1.]], dtype=float32)>"
            ]
          },
          "metadata": {
            "tags": []
          },
          "execution_count": 48
        }
      ]
    },
    {
      "cell_type": "code",
      "metadata": {
        "colab": {
          "base_uri": "https://localhost:8080/"
        },
        "id": "eSUwpRER-U2u",
        "outputId": "64ce5a61-0f38-4eaa-9143-54ee4bb51609"
      },
      "source": [
        "# specify custom values for one hot encoding\n",
        "tf.one_hot(some_list, depth=4, on_value=\"YO!\" , off_value=\"#PSP\") #on_value and off_value dtype should be same"
      ],
      "execution_count": null,
      "outputs": [
        {
          "output_type": "execute_result",
          "data": {
            "text/plain": [
              "<tf.Tensor: shape=(4, 4), dtype=string, numpy=\n",
              "array([[b'YO!', b'#PSP', b'#PSP', b'#PSP'],\n",
              "       [b'#PSP', b'YO!', b'#PSP', b'#PSP'],\n",
              "       [b'#PSP', b'#PSP', b'YO!', b'#PSP'],\n",
              "       [b'#PSP', b'#PSP', b'#PSP', b'YO!']], dtype=object)>"
            ]
          },
          "metadata": {
            "tags": []
          },
          "execution_count": 49
        }
      ]
    },
    {
      "cell_type": "code",
      "metadata": {
        "colab": {
          "base_uri": "https://localhost:8080/"
        },
        "id": "FEXNe9Zp_XWL",
        "outputId": "778b8987-798b-4646-ea8a-9f5ef8e0f9d3"
      },
      "source": [
        "some_list"
      ],
      "execution_count": null,
      "outputs": [
        {
          "output_type": "execute_result",
          "data": {
            "text/plain": [
              "[0, 1, 2, 3]"
            ]
          },
          "metadata": {
            "tags": []
          },
          "execution_count": 51
        }
      ]
    },
    {
      "cell_type": "code",
      "metadata": {
        "colab": {
          "base_uri": "https://localhost:8080/"
        },
        "id": "slidSM8e-xl1",
        "outputId": "1b058508-46b1-441d-a7a0-eff5f744950c"
      },
      "source": [
        "# changing the depth\n",
        "tf.one_hot(some_list, depth=8) # if depth is large than requirement than all zeros will be output after one hot encoding"
      ],
      "execution_count": null,
      "outputs": [
        {
          "output_type": "execute_result",
          "data": {
            "text/plain": [
              "<tf.Tensor: shape=(4, 8), dtype=float32, numpy=\n",
              "array([[1., 0., 0., 0., 0., 0., 0., 0.],\n",
              "       [0., 1., 0., 0., 0., 0., 0., 0.],\n",
              "       [0., 0., 1., 0., 0., 0., 0., 0.],\n",
              "       [0., 0., 0., 1., 0., 0., 0., 0.]], dtype=float32)>"
            ]
          },
          "metadata": {
            "tags": []
          },
          "execution_count": 54
        }
      ]
    },
    {
      "cell_type": "code",
      "metadata": {
        "colab": {
          "base_uri": "https://localhost:8080/"
        },
        "id": "GqrrDVPK_TuG",
        "outputId": "20894f35-4347-4894-9f07-78ebbf2649d2"
      },
      "source": [
        "tf.one_hot(some_list, depth=3) # if depth is less than requirement than one hot encoding will be affected"
      ],
      "execution_count": null,
      "outputs": [
        {
          "output_type": "execute_result",
          "data": {
            "text/plain": [
              "<tf.Tensor: shape=(4, 3), dtype=float32, numpy=\n",
              "array([[1., 0., 0.],\n",
              "       [0., 1., 0.],\n",
              "       [0., 0., 1.],\n",
              "       [0., 0., 0.]], dtype=float32)>"
            ]
          },
          "metadata": {
            "tags": []
          },
          "execution_count": 55
        }
      ]
    },
    {
      "cell_type": "code",
      "metadata": {
        "colab": {
          "base_uri": "https://localhost:8080/"
        },
        "id": "f5SEI03o_3Ql",
        "outputId": "da9637e1-db95-45b7-8945-c5ff8d7aca1c"
      },
      "source": [
        "tf.one_hot(some_list, depth=4, axis=0)"
      ],
      "execution_count": null,
      "outputs": [
        {
          "output_type": "execute_result",
          "data": {
            "text/plain": [
              "<tf.Tensor: shape=(4, 4), dtype=float32, numpy=\n",
              "array([[1., 0., 0., 0.],\n",
              "       [0., 1., 0., 0.],\n",
              "       [0., 0., 1., 0.],\n",
              "       [0., 0., 0., 1.]], dtype=float32)>"
            ]
          },
          "metadata": {
            "tags": []
          },
          "execution_count": 59
        }
      ]
    },
    {
      "cell_type": "markdown",
      "metadata": {
        "id": "D75HKNSPACK5"
      },
      "source": [
        "# Tensors and Numpy"
      ]
    },
    {
      "cell_type": "code",
      "metadata": {
        "colab": {
          "base_uri": "https://localhost:8080/"
        },
        "id": "9lfcsKC0Bl9Q",
        "outputId": "56aee3f4-fe3f-4fbf-ff40-1303fdd1d05b"
      },
      "source": [
        "J = tf.constant(np.array([3., 7., 10.]))\n",
        "J"
      ],
      "execution_count": null,
      "outputs": [
        {
          "output_type": "execute_result",
          "data": {
            "text/plain": [
              "<tf.Tensor: shape=(3,), dtype=float64, numpy=array([ 3.,  7., 10.])>"
            ]
          },
          "metadata": {
            "tags": []
          },
          "execution_count": 62
        }
      ]
    },
    {
      "cell_type": "code",
      "metadata": {
        "colab": {
          "base_uri": "https://localhost:8080/"
        },
        "id": "uzpBHIeLCFYT",
        "outputId": "a5c888ff-579c-42c4-c908-486de9bfba64"
      },
      "source": [
        "# convert our tensor to numpy array\n",
        "np.array(J), type(np.array(J))"
      ],
      "execution_count": null,
      "outputs": [
        {
          "output_type": "execute_result",
          "data": {
            "text/plain": [
              "(array([ 3.,  7., 10.]), numpy.ndarray)"
            ]
          },
          "metadata": {
            "tags": []
          },
          "execution_count": 63
        }
      ]
    },
    {
      "cell_type": "code",
      "metadata": {
        "colab": {
          "base_uri": "https://localhost:8080/"
        },
        "id": "pxRY6U9UCPsz",
        "outputId": "17c28408-9475-400b-c855-d3ad0c1309f2"
      },
      "source": [
        "# convert tensor J to a numpy array\n",
        "J.numpy(), type(J.numpy())"
      ],
      "execution_count": null,
      "outputs": [
        {
          "output_type": "execute_result",
          "data": {
            "text/plain": [
              "(array([ 3.,  7., 10.]), numpy.ndarray)"
            ]
          },
          "metadata": {
            "tags": []
          },
          "execution_count": 65
        }
      ]
    },
    {
      "cell_type": "code",
      "metadata": {
        "colab": {
          "base_uri": "https://localhost:8080/"
        },
        "id": "lRD_JrMxClWj",
        "outputId": "898212bb-63c6-4bb8-f182-92f90d53eea2"
      },
      "source": [
        "# the default dtype of both are different\n",
        "numpy_J = tf.constant(np.array([3., 7., 10.]))\n",
        "tensor_J = tf.constant([3., 7., 10.])\n",
        "# check the dtypes of each\n",
        "numpy_J.dtype, tensor_J.dtype"
      ],
      "execution_count": null,
      "outputs": [
        {
          "output_type": "execute_result",
          "data": {
            "text/plain": [
              "(tf.float64, tf.float32)"
            ]
          },
          "metadata": {
            "tags": []
          },
          "execution_count": 69
        }
      ]
    },
    {
      "cell_type": "markdown",
      "metadata": {
        "id": "m2sulXeEDS2Y"
      },
      "source": [
        "# Finding access to GPU's"
      ]
    },
    {
      "cell_type": "code",
      "metadata": {
        "colab": {
          "base_uri": "https://localhost:8080/"
        },
        "id": "NAFW9f8WD-I4",
        "outputId": "fb47f684-c503-4ca9-86b9-d75ebb5ce5e0"
      },
      "source": [
        "import tensorflow as tf\n",
        "\n",
        "tf.config.list_physical_devices(), tf.config.list_physical_devices(\"GPU\")"
      ],
      "execution_count": null,
      "outputs": [
        {
          "output_type": "execute_result",
          "data": {
            "text/plain": [
              "([PhysicalDevice(name='/physical_device:CPU:0', device_type='CPU'),\n",
              "  PhysicalDevice(name='/physical_device:GPU:0', device_type='GPU')],\n",
              " [PhysicalDevice(name='/physical_device:GPU:0', device_type='GPU')])"
            ]
          },
          "metadata": {
            "tags": []
          },
          "execution_count": 2
        }
      ]
    },
    {
      "cell_type": "code",
      "metadata": {
        "colab": {
          "base_uri": "https://localhost:8080/"
        },
        "id": "X9JCXug5EYYz",
        "outputId": "7fe90a24-765c-4249-ada2-befdea5cbc09"
      },
      "source": [
        "!nvidia-smi # to check which GPU we are using"
      ],
      "execution_count": null,
      "outputs": [
        {
          "output_type": "stream",
          "text": [
            "Sun Jul  4 05:57:19 2021       \n",
            "+-----------------------------------------------------------------------------+\n",
            "| NVIDIA-SMI 465.27       Driver Version: 460.32.03    CUDA Version: 11.2     |\n",
            "|-------------------------------+----------------------+----------------------+\n",
            "| GPU  Name        Persistence-M| Bus-Id        Disp.A | Volatile Uncorr. ECC |\n",
            "| Fan  Temp  Perf  Pwr:Usage/Cap|         Memory-Usage | GPU-Util  Compute M. |\n",
            "|                               |                      |               MIG M. |\n",
            "|===============================+======================+======================|\n",
            "|   0  Tesla T4            Off  | 00000000:00:04.0 Off |                    0 |\n",
            "| N/A   50C    P8     9W /  70W |      3MiB / 15109MiB |      0%      Default |\n",
            "|                               |                      |                  N/A |\n",
            "+-------------------------------+----------------------+----------------------+\n",
            "                                                                               \n",
            "+-----------------------------------------------------------------------------+\n",
            "| Processes:                                                                  |\n",
            "|  GPU   GI   CI        PID   Type   Process name                  GPU Memory |\n",
            "|        ID   ID                                                   Usage      |\n",
            "|=============================================================================|\n",
            "|  No running processes found                                                 |\n",
            "+-----------------------------------------------------------------------------+\n"
          ],
          "name": "stdout"
        }
      ]
    },
    {
      "cell_type": "markdown",
      "metadata": {
        "id": "jVH_O9kRFc4u"
      },
      "source": [
        "## 🛠 Exercises\n",
        "\n",
        "1. Create a vector, scalar, matrix and tensor with values of your choosing using `tf.constant()`.\n",
        "2. Find the shape, rank and size of the tensors you created in 1.\n",
        "3. Create two tensors containing random values between 0 and 1 with shape `[5, 300]`.\n",
        "4. Multiply the two tensors you created in 3 using matrix multiplication.\n",
        "5. Multiply the two tensors you created in 3 using dot product.\n",
        "6. Create a tensor with random values between 0 and 1 with shape `[224, 224, 3]`.\n",
        "7. Find the min and max values of the tensor you created in 6.\n",
        "8. Created a tensor with random values of shape `[1, 224, 224, 3]` then squeeze it to change the shape to `[224, 224, 3]`.\n",
        "9. Create a tensor with shape `[10]` using your own choice of values, then find the index which has the maximum value.\n",
        "10. One-hot encode the tensor you created in 9."
      ]
    },
    {
      "cell_type": "markdown",
      "metadata": {
        "id": "TbYdwsGhABDR"
      },
      "source": [
        "## 📖 Extra-curriculum\n",
        "\n",
        "* Read through the [list of TensorFlow Python APIs](https://www.tensorflow.org/api_docs/python/), pick one we haven't gone through in this notebook, reverse engineer it (write out the documentation code for yourself) and figure out what it does.\n",
        "* Try to create a series of tensor functions to calculate your most recent grocery bill (it's okay if you don't use the names of the items, just the price in numerical form).\n",
        "  * How would you calculate your grocery bill for the month and for the year using tensors?\n",
        "* Go through the [TensorFlow 2.x quick start for beginners](https://www.tensorflow.org/tutorials/quickstart/beginner) tutorial (be sure to type out all of the code yourself, even if you don't understand it).\n",
        "  * Are there any functions we used in here that match what's used in there? Which are the same? Which haven't you seen before?\n",
        "* Watch the video [\"What's a tensor?\"](https://www.youtube.com/watch?v=f5liqUk0ZTw) - a great visual introduction to many of the concepts we've covered in this notebook."
      ]
    },
    {
      "cell_type": "code",
      "metadata": {
        "id": "aiN-ikC8ADOl"
      },
      "source": [
        ""
      ],
      "execution_count": null,
      "outputs": []
    }
  ]
}